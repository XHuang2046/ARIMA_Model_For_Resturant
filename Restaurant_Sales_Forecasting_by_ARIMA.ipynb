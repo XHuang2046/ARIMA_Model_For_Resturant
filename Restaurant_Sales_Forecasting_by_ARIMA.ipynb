{
  "nbformat": 4,
  "nbformat_minor": 0,
  "metadata": {
    "colab": {
      "name": "Restaurant_Sales_Forecasting_by_ARIMA.ipynb",
      "provenance": [],
      "collapsed_sections": [],
      "toc_visible": true,
      "mount_file_id": "1dgz3JVltZogkoHmPrsAKArJ2NSq511GG",
      "authorship_tag": "ABX9TyOLPLAfM096UNR2kwQKifsk",
      "include_colab_link": true
    },
    "kernelspec": {
      "name": "python3",
      "display_name": "Python 3"
    },
    "language_info": {
      "name": "python"
    }
  },
  "cells": [
    {
      "cell_type": "markdown",
      "metadata": {
        "id": "view-in-github",
        "colab_type": "text"
      },
      "source": [
        "<a href=\"https://colab.research.google.com/github/XHuang2046/Restaurant_Sales_Forecasting_by_ARIMA/blob/main/Restaurant_Sales_Forecasting_by_ARIMA.ipynb\" target=\"_parent\"><img src=\"https://colab.research.google.com/assets/colab-badge.svg\" alt=\"Open In Colab\"/></a>"
      ]
    },
    {
      "cell_type": "markdown",
      "metadata": {
        "id": "uLBjvIZvs5Z5"
      },
      "source": [
        "**Loading Packages**"
      ]
    },
    {
      "cell_type": "code",
      "metadata": {
        "colab": {
          "base_uri": "https://localhost:8080/"
        },
        "id": "w_ciFvDNsxul",
        "outputId": "5e8b216e-8a9b-470b-e1c3-a56058406700"
      },
      "source": [
        "import numpy as np\n",
        "import pandas as pd\n",
        "import matplotlib.pyplot as plt\n",
        "import seaborn as sns\n",
        "\n",
        "from statsmodels.graphics.tsaplots import plot_acf,plot_pacf  # AutoCorrelation Plot, Partial AutoCorrelation Plot\n",
        "from statsmodels.tsa.stattools import adfuller as ADF # Stationary Check\n",
        "from statsmodels.stats.diagnostic import acorr_ljungbox # White noise check\n",
        "import statsmodels.api as sm #D-W test, 1-st order autocorrelation test\n",
        "from statsmodels.graphics.api import qqplot # QQ plot, nornal distribution test\n",
        "from statsmodels.tsa.arima_model import ARIMA\n",
        "\n",
        "import warnings\n",
        "warnings.filterwarnings(\"ignore\")"
      ],
      "execution_count": 1,
      "outputs": [
        {
          "output_type": "stream",
          "text": [
            "/usr/local/lib/python3.7/dist-packages/statsmodels/tools/_testing.py:19: FutureWarning: pandas.util.testing is deprecated. Use the functions in the public API at pandas.testing instead.\n",
            "  import pandas.util.testing as tm\n"
          ],
          "name": "stderr"
        }
      ]
    },
    {
      "cell_type": "code",
      "metadata": {
        "colab": {
          "base_uri": "https://localhost:8080/",
          "height": 234
        },
        "id": "dKrRrvSoegFT",
        "outputId": "6860aaab-fb77-4378-8aae-44bd182a7225"
      },
      "source": [
        "sales = pd.read_excel('/content/drive/MyDrive/resturant_data.xls',index_col='Date')\n",
        "sales.head()"
      ],
      "execution_count": 2,
      "outputs": [
        {
          "output_type": "execute_result",
          "data": {
            "text/html": [
              "<div>\n",
              "<style scoped>\n",
              "    .dataframe tbody tr th:only-of-type {\n",
              "        vertical-align: middle;\n",
              "    }\n",
              "\n",
              "    .dataframe tbody tr th {\n",
              "        vertical-align: top;\n",
              "    }\n",
              "\n",
              "    .dataframe thead th {\n",
              "        text-align: right;\n",
              "    }\n",
              "</style>\n",
              "<table border=\"1\" class=\"dataframe\">\n",
              "  <thead>\n",
              "    <tr style=\"text-align: right;\">\n",
              "      <th></th>\n",
              "      <th>Sales</th>\n",
              "    </tr>\n",
              "    <tr>\n",
              "      <th>Date</th>\n",
              "      <th></th>\n",
              "    </tr>\n",
              "  </thead>\n",
              "  <tbody>\n",
              "    <tr>\n",
              "      <th>2015-01-01</th>\n",
              "      <td>3023</td>\n",
              "    </tr>\n",
              "    <tr>\n",
              "      <th>2015-01-02</th>\n",
              "      <td>3039</td>\n",
              "    </tr>\n",
              "    <tr>\n",
              "      <th>2015-01-03</th>\n",
              "      <td>3056</td>\n",
              "    </tr>\n",
              "    <tr>\n",
              "      <th>2015-01-04</th>\n",
              "      <td>3138</td>\n",
              "    </tr>\n",
              "    <tr>\n",
              "      <th>2015-01-05</th>\n",
              "      <td>3188</td>\n",
              "    </tr>\n",
              "  </tbody>\n",
              "</table>\n",
              "</div>"
            ],
            "text/plain": [
              "            Sales\n",
              "Date             \n",
              "2015-01-01   3023\n",
              "2015-01-02   3039\n",
              "2015-01-03   3056\n",
              "2015-01-04   3138\n",
              "2015-01-05   3188"
            ]
          },
          "metadata": {
            "tags": []
          },
          "execution_count": 2
        }
      ]
    },
    {
      "cell_type": "code",
      "metadata": {
        "colab": {
          "base_uri": "https://localhost:8080/"
        },
        "id": "LaSN7HN3ezoo",
        "outputId": "bba6bcc4-7dfe-4808-dcb1-30768170a716"
      },
      "source": [
        "sales.info()"
      ],
      "execution_count": 3,
      "outputs": [
        {
          "output_type": "stream",
          "text": [
            "<class 'pandas.core.frame.DataFrame'>\n",
            "DatetimeIndex: 37 entries, 2015-01-01 to 2015-02-06\n",
            "Data columns (total 1 columns):\n",
            " #   Column  Non-Null Count  Dtype\n",
            "---  ------  --------------  -----\n",
            " 0   Sales   37 non-null     int64\n",
            "dtypes: int64(1)\n",
            "memory usage: 592.0 bytes\n"
          ],
          "name": "stdout"
        }
      ]
    },
    {
      "cell_type": "code",
      "metadata": {
        "colab": {
          "base_uri": "https://localhost:8080/"
        },
        "id": "0ywz8HRYgzOO",
        "outputId": "c77e98d9-3cec-402a-fc0a-8866f7c5f6e4"
      },
      "source": [
        "sales.Sales = sales.Sales.astype('float')\n",
        "sales.info()"
      ],
      "execution_count": 3,
      "outputs": [
        {
          "output_type": "stream",
          "text": [
            "<class 'pandas.core.frame.DataFrame'>\n",
            "DatetimeIndex: 37 entries, 2015-01-01 to 2015-02-06\n",
            "Data columns (total 1 columns):\n",
            " #   Column  Non-Null Count  Dtype  \n",
            "---  ------  --------------  -----  \n",
            " 0   Sales   37 non-null     float64\n",
            "dtypes: float64(1)\n",
            "memory usage: 592.0 bytes\n"
          ],
          "name": "stdout"
        }
      ]
    },
    {
      "cell_type": "markdown",
      "metadata": {
        "id": "SxOkDSdRhDCT"
      },
      "source": [
        "### Determining stationarity"
      ]
    },
    {
      "cell_type": "markdown",
      "metadata": {
        "id": "F6efJf0ykora"
      },
      "source": [
        "**Time Plot**"
      ]
    },
    {
      "cell_type": "code",
      "metadata": {
        "colab": {
          "base_uri": "https://localhost:8080/",
          "height": 404
        },
        "id": "2SdbBkZNvOCF",
        "outputId": "9e8edcf6-7857-4b63-fbbe-1a2820b3e309"
      },
      "source": [
        "fig, ax = plt.subplots(figsize=(10,5))\n",
        "#sales.plot(kind='line',ax=ax)\n",
        "ax.plot(sales)\n",
        "ax.grid(ls=':', color='gray', alpha=0.6)\n",
        "\n",
        "# set the axes\n",
        "plt.xticks(rotation=90, fontsize=12)\n",
        "plt.yticks(fontsize=12)\n",
        "\n",
        "# title \n",
        "ax.set_title('time plot', fontsize=25)\n",
        "\n",
        "plt.show()"
      ],
      "execution_count": 4,
      "outputs": [
        {
          "output_type": "display_data",
          "data": {
            "image/png": "[encoded data removed]",
            "text/plain": [
              "<Figure size 720x360 with 1 Axes>"
            ]
          },
          "metadata": {
            "tags": [],
            "needs_background": "light"
          }
        }
      ]
    },
    {
      "cell_type": "markdown",
      "metadata": {
        "id": "uni5KBuolcTk"
      },
      "source": [
        "**Auto Correlation Plot**"
      ]
    },
    {
      "cell_type": "code",
      "metadata": {
        "colab": {
          "base_uri": "https://localhost:8080/",
          "height": 336
        },
        "id": "TeVZD6FervSL",
        "outputId": "d0e03be2-7763-400d-def9-bdf08ca9cce7"
      },
      "source": [
        "fig, ax = plt.subplots(figsize=(10, 5))\n",
        "plot_acf(sales,lags=28,ax=ax)\n",
        "plt.show()"
      ],
      "execution_count": 8,
      "outputs": [
        {
          "output_type": "display_data",
          "data": {
            "image/png": "[encoded data removed]",
            "text/plain": [
              "<Figure size 720x360 with 1 Axes>"
            ]
          },
          "metadata": {
            "tags": [],
            "needs_background": "light"
          }
        }
      ]
    },
    {
      "cell_type": "markdown",
      "metadata": {
        "id": "1eqYJNablgdb"
      },
      "source": [
        "**ADF Test**"
      ]
    },
    {
      "cell_type": "code",
      "metadata": {
        "colab": {
          "base_uri": "https://localhost:8080/"
        },
        "id": "z_CfnxQgiq1_",
        "outputId": "1614cf39-8d2d-4dde-bf9f-79f1388e2a5d"
      },
      "source": [
        "result = ADF(sales.Sales)\n",
        "print('ADF Statistic: %f' % result[0])\n",
        "print('p-value: %f' % result[1])\n",
        "print('Critical Values in different significance levels:')\n",
        "for key, value in result[4].items():\n",
        "\tprint('\\t%s: %.4f' % (key, value))\n",
        "\n",
        "# P > 0.05, so we accept the null hypothesis that there is a unit root, which means that the sequence is non-stationary."
      ],
      "execution_count": 17,
      "outputs": [
        {
          "output_type": "stream",
          "text": [
            "ADF Statistic: 1.813771\n",
            "p-value: 0.998376\n",
            "Critical Values in different significance levels:\n",
            "\t1%: -3.7112\n",
            "\t5%: -2.9812\n",
            "\t10%: -2.6301\n"
          ],
          "name": "stdout"
        }
      ]
    },
    {
      "cell_type": "markdown",
      "metadata": {
        "id": "qkIXqtCyflPO"
      },
      "source": [
        "### Testing First Differenced Time Seires\n",
        "\n",
        "Since the time series is a non-stationary sequence, we need to create the first differenced time series and re-do the stationarity check on it."
      ]
    },
    {
      "cell_type": "code",
      "metadata": {
        "colab": {
          "base_uri": "https://localhost:8080/",
          "height": 234
        },
        "id": "c39srTUWchAm",
        "outputId": "97eefe43-6653-4ee2-8c6e-c571a374eff7"
      },
      "source": [
        "d1_sales=sales.diff(periods=1, axis=0).fillna(0)\n",
        "d1_sales.head()"
      ],
      "execution_count": 5,
      "outputs": [
        {
          "output_type": "execute_result",
          "data": {
            "text/html": [
              "<div>\n",
              "<style scoped>\n",
              "    .dataframe tbody tr th:only-of-type {\n",
              "        vertical-align: middle;\n",
              "    }\n",
              "\n",
              "    .dataframe tbody tr th {\n",
              "        vertical-align: top;\n",
              "    }\n",
              "\n",
              "    .dataframe thead th {\n",
              "        text-align: right;\n",
              "    }\n",
              "</style>\n",
              "<table border=\"1\" class=\"dataframe\">\n",
              "  <thead>\n",
              "    <tr style=\"text-align: right;\">\n",
              "      <th></th>\n",
              "      <th>Sales</th>\n",
              "    </tr>\n",
              "    <tr>\n",
              "      <th>Date</th>\n",
              "      <th></th>\n",
              "    </tr>\n",
              "  </thead>\n",
              "  <tbody>\n",
              "    <tr>\n",
              "      <th>2015-01-01</th>\n",
              "      <td>0.0</td>\n",
              "    </tr>\n",
              "    <tr>\n",
              "      <th>2015-01-02</th>\n",
              "      <td>16.0</td>\n",
              "    </tr>\n",
              "    <tr>\n",
              "      <th>2015-01-03</th>\n",
              "      <td>17.0</td>\n",
              "    </tr>\n",
              "    <tr>\n",
              "      <th>2015-01-04</th>\n",
              "      <td>82.0</td>\n",
              "    </tr>\n",
              "    <tr>\n",
              "      <th>2015-01-05</th>\n",
              "      <td>50.0</td>\n",
              "    </tr>\n",
              "  </tbody>\n",
              "</table>\n",
              "</div>"
            ],
            "text/plain": [
              "            Sales\n",
              "Date             \n",
              "2015-01-01    0.0\n",
              "2015-01-02   16.0\n",
              "2015-01-03   17.0\n",
              "2015-01-04   82.0\n",
              "2015-01-05   50.0"
            ]
          },
          "metadata": {
            "tags": []
          },
          "execution_count": 5
        }
      ]
    },
    {
      "cell_type": "markdown",
      "metadata": {
        "id": "W3Ss2hWdy5Za"
      },
      "source": [
        "**Time plot**"
      ]
    },
    {
      "cell_type": "code",
      "metadata": {
        "colab": {
          "base_uri": "https://localhost:8080/",
          "height": 404
        },
        "id": "56YFDG8DkDct",
        "outputId": "238fad2e-7dc6-41b4-d9b3-4cc02f71708b"
      },
      "source": [
        "# define the data for plotting\n",
        "x = d1_sales.index\n",
        "y = d1_sales.Sales\n",
        "\n",
        "# set the color\n",
        "color1 = 'b'\n",
        "color2 = 'r'\n",
        "\n",
        "# set the figure size\n",
        "fig = plt.figure(figsize=(10, 5))\n",
        "ax = fig.add_subplot(111)\n",
        "\n",
        "# plot the first differencing line chart\n",
        "ax.plot(x, y, color=color1)\n",
        "\n",
        "# plot the average line\n",
        "ax.hlines(y.mean(), x[0], x[-1:], linestyles='-.', colors=color2)\n",
        "ax.text(x[-8], y.mean()-30, 'Avg. Value: ' + str(round(y.mean(),2)),\n",
        "        color=color2, fontsize=14)\n",
        "\n",
        "# set the grid\n",
        "ax.grid(ls=':', color='gray', alpha=0.6)\n",
        "# set the axes\n",
        "plt.xticks(rotation=90, fontsize=12)\n",
        "plt.yticks(fontsize=12)\n",
        "# title \n",
        "ax.set_title('first differenced time series', fontsize=25)\n",
        "\n",
        "plt.show()"
      ],
      "execution_count": 5,
      "outputs": [
        {
          "output_type": "display_data",
          "data": {
            "image/png": "[encoded data removed]",
            "text/plain": [
              "<Figure size 720x360 with 1 Axes>"
            ]
          },
          "metadata": {
            "tags": [],
            "needs_background": "light"
          }
        }
      ]
    },
    {
      "cell_type": "markdown",
      "metadata": {
        "id": "vESWUEIHyhh2"
      },
      "source": [
        "The first differencing is relatively stationary as it varies around the mean value."
      ]
    },
    {
      "cell_type": "markdown",
      "metadata": {
        "id": "n3GQC_Pgy9f_"
      },
      "source": [
        "**ACF Plot**"
      ]
    },
    {
      "cell_type": "code",
      "metadata": {
        "colab": {
          "base_uri": "https://localhost:8080/",
          "height": 336
        },
        "id": "f3Go4nJKg0HA",
        "outputId": "faa1774b-3671-4269-9853-a69d9041b617"
      },
      "source": [
        "# AutoCorrelation Plot\n",
        "fig, ax = plt.subplots(figsize=(10,5))\n",
        "plot_acf(d1_sales,lags=28,ax=ax).show()\n",
        "# The ac value converge towards 0.\n",
        "# It has short-range independence."
      ],
      "execution_count": 9,
      "outputs": [
        {
          "output_type": "display_data",
          "data": {
            "image/png": "[encoded data removed]",
            "text/plain": [
              "<Figure size 720x360 with 1 Axes>"
            ]
          },
          "metadata": {
            "tags": [],
            "needs_background": "light"
          }
        }
      ]
    },
    {
      "cell_type": "markdown",
      "metadata": {
        "id": "yG00xgLhzBP4"
      },
      "source": [
        "**Stationarity Check**"
      ]
    },
    {
      "cell_type": "code",
      "metadata": {
        "colab": {
          "base_uri": "https://localhost:8080/"
        },
        "id": "KBBUibQSt4qn",
        "outputId": "9226fbed-07ac-4cbd-e89f-b0f3a0a0f304"
      },
      "source": [
        "res_1 = ADF(d1_sales.Sales)\n",
        "print('ADF Statistic: %f' % res_1[0])\n",
        "print('p-value: %f' % res_1[1])\n",
        "print('Critical Values in different significance levels:')\n",
        "for key, value in res_1[4].items():\n",
        "\tprint('\\t%s: %.4f' % (key, value))\n",
        "\n",
        "# P < 0.05, so we accept the alternative hypothesis that there is no unit root\n",
        "# First differenced sequence is stationary."
      ],
      "execution_count": 6,
      "outputs": [
        {
          "output_type": "stream",
          "text": [
            "ADF Statistic: -3.206873\n",
            "p-value: 0.019590\n",
            "Critical Values in different significance levels:\n",
            "\t1%: -3.6267\n",
            "\t5%: -2.9460\n",
            "\t10%: -2.6117\n"
          ],
          "name": "stdout"
        }
      ]
    },
    {
      "cell_type": "markdown",
      "metadata": {
        "id": "QFF8F7z2zGBp"
      },
      "source": [
        "**White Noise Check**\n"
      ]
    },
    {
      "cell_type": "code",
      "metadata": {
        "colab": {
          "base_uri": "https://localhost:8080/"
        },
        "id": "rw_-vm6_u2cB",
        "outputId": "12dd54b0-fee8-410f-a8c8-10dbd3fb2b67"
      },
      "source": [
        "print('The P-value for white noise check is:',acorr_ljungbox(d1_sales,lags=1)[1][0])\n",
        "\n",
        "# P < 0.05，so we reject the null hypothesis.\n",
        "# First differencing is not white noise."
      ],
      "execution_count": 37,
      "outputs": [
        {
          "output_type": "stream",
          "text": [
            "The P-value for white noise check is: 0.0006425352363886988\n"
          ],
          "name": "stdout"
        }
      ]
    },
    {
      "cell_type": "markdown",
      "metadata": {
        "id": "TA42NHU2Xu0k"
      },
      "source": [
        "### Select the Parameters"
      ]
    },
    {
      "cell_type": "markdown",
      "metadata": {
        "id": "E2it4YsiYCWs"
      },
      "source": [
        "Plotting ACF and PACF to estimate the parameters for the ARIMA model"
      ]
    },
    {
      "cell_type": "code",
      "metadata": {
        "colab": {
          "base_uri": "https://localhost:8080/",
          "height": 499
        },
        "id": "Rdx8_MfzzQlv",
        "outputId": "8f91d047-9df9-49ec-9c12-8fc635e47611"
      },
      "source": [
        "fig = plt.figure(figsize=(10,8))\n",
        "# plot ACF \n",
        "ax1=plt.subplot(211)\n",
        "plot_acf(d1_sales,lags=28,ax=ax1)\n",
        "# Plot PACF\n",
        "ax2=plt.subplot(212)\n",
        "plot_pacf(d1_sales,lags=14,ax=ax2)\n",
        "\n",
        "plt.show()\n"
      ],
      "execution_count": 11,
      "outputs": [
        {
          "output_type": "display_data",
          "data": {
            "image/png": "[encoded data removed]",
            "text/plain": [
              "<Figure size 720x576 with 2 Axes>"
            ]
          },
          "metadata": {
            "tags": [],
            "needs_background": "light"
          }
        }
      ]
    },
    {
      "cell_type": "markdown",
      "metadata": {
        "id": "t4vtXD_cnKJ3"
      },
      "source": [
        "The ACF cuts off after 1st lag.  \n",
        "The PACF tails off after 1st lag.  \n",
        "So ARIMA(p,d,q) = ARIMA(0,1,1)  "
      ]
    },
    {
      "cell_type": "markdown",
      "metadata": {
        "id": "JY6lUda0owFy"
      },
      "source": [
        "**Select the parameters based on AIC/BIC**"
      ]
    },
    {
      "cell_type": "code",
      "metadata": {
        "colab": {
          "base_uri": "https://localhost:8080/"
        },
        "id": "VE9GriiOmzog",
        "outputId": "2e655bf7-0dd8-4625-8576-588f327940d2"
      },
      "source": [
        "pmax=int(len(d1_sales)/10) \n",
        "qmax=int(len(d1_sales)/10) \n",
        "pmax"
      ],
      "execution_count": 18,
      "outputs": [
        {
          "output_type": "execute_result",
          "data": {
            "text/plain": [
              "3"
            ]
          },
          "metadata": {
            "tags": []
          },
          "execution_count": 18
        }
      ]
    },
    {
      "cell_type": "code",
      "metadata": {
        "id": "VtsQLBgjqC1L"
      },
      "source": [
        "# Based on BIC\n",
        "\n",
        "bic_matrix=[]\n",
        "for p in range(pmax+1):\n",
        "    tmp=[]\n",
        "    for q in range(qmax+1):\n",
        "        try:\n",
        "            tmp.append(ARIMA(sales,(p,1,q)).fit().bic)\n",
        "        except:\n",
        "            tmp.append(None)\n",
        "    bic_matrix.append(tmp)\n"
      ],
      "execution_count": null,
      "outputs": []
    },
    {
      "cell_type": "code",
      "metadata": {
        "colab": {
          "base_uri": "https://localhost:8080/",
          "height": 172
        },
        "id": "nauUHTvergIM",
        "outputId": "b7dc68e2-dcf6-48c1-ad8b-c8492995ee8e"
      },
      "source": [
        "bic_matrix=pd.DataFrame(bic_matrix)\n",
        "bic_matrix"
      ],
      "execution_count": 26,
      "outputs": [
        {
          "output_type": "execute_result",
          "data": {
            "text/html": [
              "<div>\n",
              "<style scoped>\n",
              "    .dataframe tbody tr th:only-of-type {\n",
              "        vertical-align: middle;\n",
              "    }\n",
              "\n",
              "    .dataframe tbody tr th {\n",
              "        vertical-align: top;\n",
              "    }\n",
              "\n",
              "    .dataframe thead th {\n",
              "        text-align: right;\n",
              "    }\n",
              "</style>\n",
              "<table border=\"1\" class=\"dataframe\">\n",
              "  <thead>\n",
              "    <tr style=\"text-align: right;\">\n",
              "      <th></th>\n",
              "      <th>0</th>\n",
              "      <th>1</th>\n",
              "      <th>2</th>\n",
              "      <th>3</th>\n",
              "    </tr>\n",
              "  </thead>\n",
              "  <tbody>\n",
              "    <tr>\n",
              "      <th>0</th>\n",
              "      <td>432.068472</td>\n",
              "      <td>422.510082</td>\n",
              "      <td>426.088911</td>\n",
              "      <td>426.595507</td>\n",
              "    </tr>\n",
              "    <tr>\n",
              "      <th>1</th>\n",
              "      <td>423.628276</td>\n",
              "      <td>426.073601</td>\n",
              "      <td>NaN</td>\n",
              "      <td>NaN</td>\n",
              "    </tr>\n",
              "    <tr>\n",
              "      <th>2</th>\n",
              "      <td>426.774824</td>\n",
              "      <td>427.395799</td>\n",
              "      <td>431.003529</td>\n",
              "      <td>NaN</td>\n",
              "    </tr>\n",
              "    <tr>\n",
              "      <th>3</th>\n",
              "      <td>430.317524</td>\n",
              "      <td>431.924814</td>\n",
              "      <td>434.761733</td>\n",
              "      <td>436.478109</td>\n",
              "    </tr>\n",
              "  </tbody>\n",
              "</table>\n",
              "</div>"
            ],
            "text/plain": [
              "            0           1           2           3\n",
              "0  432.068472  422.510082  426.088911  426.595507\n",
              "1  423.628276  426.073601         NaN         NaN\n",
              "2  426.774824  427.395799  431.003529         NaN\n",
              "3  430.317524  431.924814  434.761733  436.478109"
            ]
          },
          "metadata": {
            "tags": []
          },
          "execution_count": 26
        }
      ]
    },
    {
      "cell_type": "code",
      "metadata": {
        "colab": {
          "base_uri": "https://localhost:8080/"
        },
        "id": "yE0A8cl8rn9h",
        "outputId": "e3da7d51-0588-4bac-8727-b926db163f73"
      },
      "source": [
        "bic_matrix.stack()"
      ],
      "execution_count": 27,
      "outputs": [
        {
          "output_type": "execute_result",
          "data": {
            "text/plain": [
              "0  0    432.068472\n",
              "   1    422.510082\n",
              "   2    426.088911\n",
              "   3    426.595507\n",
              "1  0    423.628276\n",
              "   1    426.073601\n",
              "2  0    426.774824\n",
              "   1    427.395799\n",
              "   2    431.003529\n",
              "3  0    430.317524\n",
              "   1    431.924814\n",
              "   2    434.761733\n",
              "   3    436.478109\n",
              "dtype: float64"
            ]
          },
          "metadata": {
            "tags": []
          },
          "execution_count": 27
        }
      ]
    },
    {
      "cell_type": "code",
      "metadata": {
        "colab": {
          "base_uri": "https://localhost:8080/"
        },
        "id": "yr2jGDzLr0AS",
        "outputId": "ad47b517-8ee9-47ac-dd11-5d4872515796"
      },
      "source": [
        "p,q=bic_matrix.stack().idxmin() # index for the min value\n",
        "print('Based on BIC, the best (p, q) is', (p,q))"
      ],
      "execution_count": 31,
      "outputs": [
        {
          "output_type": "stream",
          "text": [
            "Based on BIC, the best (p, q) is (0, 1)\n"
          ],
          "name": "stdout"
        }
      ]
    },
    {
      "cell_type": "code",
      "metadata": {
        "id": "cizIZwQlsdMe"
      },
      "source": [
        "# Based on AIC\n",
        "\n",
        "aic_matrix=[]\n",
        "for p in range(pmax+1):\n",
        "    tmp=[]\n",
        "    for q in range(qmax+1):\n",
        "        try:\n",
        "            tmp.append(ARIMA(sales,(p,1,q)).fit().aic)\n",
        "        except:\n",
        "            tmp.append(None)\n",
        "    aic_matrix.append(tmp)"
      ],
      "execution_count": null,
      "outputs": []
    },
    {
      "cell_type": "code",
      "metadata": {
        "colab": {
          "base_uri": "https://localhost:8080/",
          "height": 172
        },
        "id": "KyUfQxLOsw16",
        "outputId": "9036c685-05b4-4554-c9bb-af135b8adf74"
      },
      "source": [
        "aic_matrix"
      ],
      "execution_count": 35,
      "outputs": [
        {
          "output_type": "execute_result",
          "data": {
            "text/html": [
              "<div>\n",
              "<style scoped>\n",
              "    .dataframe tbody tr th:only-of-type {\n",
              "        vertical-align: middle;\n",
              "    }\n",
              "\n",
              "    .dataframe tbody tr th {\n",
              "        vertical-align: top;\n",
              "    }\n",
              "\n",
              "    .dataframe thead th {\n",
              "        text-align: right;\n",
              "    }\n",
              "</style>\n",
              "<table border=\"1\" class=\"dataframe\">\n",
              "  <thead>\n",
              "    <tr style=\"text-align: right;\">\n",
              "      <th></th>\n",
              "      <th>0</th>\n",
              "      <th>1</th>\n",
              "      <th>2</th>\n",
              "      <th>3</th>\n",
              "    </tr>\n",
              "  </thead>\n",
              "  <tbody>\n",
              "    <tr>\n",
              "      <th>0</th>\n",
              "      <td>428.901435</td>\n",
              "      <td>417.759525</td>\n",
              "      <td>419.754835</td>\n",
              "      <td>418.677913</td>\n",
              "    </tr>\n",
              "    <tr>\n",
              "      <th>1</th>\n",
              "      <td>418.877719</td>\n",
              "      <td>419.739526</td>\n",
              "      <td>NaN</td>\n",
              "      <td>NaN</td>\n",
              "    </tr>\n",
              "    <tr>\n",
              "      <th>2</th>\n",
              "      <td>420.440748</td>\n",
              "      <td>419.478204</td>\n",
              "      <td>421.502415</td>\n",
              "      <td>NaN</td>\n",
              "    </tr>\n",
              "    <tr>\n",
              "      <th>3</th>\n",
              "      <td>422.399930</td>\n",
              "      <td>422.423701</td>\n",
              "      <td>423.677100</td>\n",
              "      <td>423.809958</td>\n",
              "    </tr>\n",
              "  </tbody>\n",
              "</table>\n",
              "</div>"
            ],
            "text/plain": [
              "            0           1           2           3\n",
              "0  428.901435  417.759525  419.754835  418.677913\n",
              "1  418.877719  419.739526         NaN         NaN\n",
              "2  420.440748  419.478204  421.502415         NaN\n",
              "3  422.399930  422.423701  423.677100  423.809958"
            ]
          },
          "metadata": {
            "tags": []
          },
          "execution_count": 35
        }
      ]
    },
    {
      "cell_type": "code",
      "metadata": {
        "colab": {
          "base_uri": "https://localhost:8080/"
        },
        "id": "nrgMrUkXspS1",
        "outputId": "3d6a0245-3523-4a3e-ae64-3e0666ee382d"
      },
      "source": [
        "aic_matrix=pd.DataFrame(aic_matrix)\n",
        "p,q=aic_matrix.stack().idxmin()\n",
        "print('Based on AIC, the best (p, q) is', (p,q))"
      ],
      "execution_count": 34,
      "outputs": [
        {
          "output_type": "stream",
          "text": [
            "Based on AIC, the best (p, q) is (0, 1)\n"
          ],
          "name": "stdout"
        }
      ]
    },
    {
      "cell_type": "markdown",
      "metadata": {
        "id": "jztDINAjs3fb"
      },
      "source": [
        "So the best parameters for the ARIMA model is (0,1,1)"
      ]
    },
    {
      "cell_type": "markdown",
      "metadata": {
        "id": "7iAELebyqZt7"
      },
      "source": [
        "### Building ARIMA Model and Predicting"
      ]
    },
    {
      "cell_type": "code",
      "metadata": {
        "id": "jWboRpktqW9W"
      },
      "source": [
        "# Modeling \n",
        "model=ARIMA(sales,(0,1,1)).fit()\n"
      ],
      "execution_count": 7,
      "outputs": []
    },
    {
      "cell_type": "code",
      "metadata": {
        "colab": {
          "base_uri": "https://localhost:8080/"
        },
        "id": "8lj-mtPyxNHE",
        "outputId": "e0cac764-416d-4ea1-f006-6ecb9dca3837"
      },
      "source": [
        "print(model.summary())"
      ],
      "execution_count": 13,
      "outputs": [
        {
          "output_type": "stream",
          "text": [
            "                             ARIMA Model Results                              \n",
            "==============================================================================\n",
            "Dep. Variable:                D.Sales   No. Observations:                   36\n",
            "Model:                 ARIMA(0, 1, 1)   Log Likelihood                -205.880\n",
            "Method:                       css-mle   S.D. of innovations             73.086\n",
            "Date:                Wed, 21 Jul 2021   AIC                            417.760\n",
            "Time:                        15:29:06   BIC                            422.510\n",
            "Sample:                    01-02-2015   HQIC                           419.418\n",
            "                         - 02-06-2015                                         \n",
            "=================================================================================\n",
            "                    coef    std err          z      P>|z|      [0.025      0.975]\n",
            "---------------------------------------------------------------------------------\n",
            "const            49.9557     20.139      2.481      0.018      10.484      89.427\n",
            "ma.L1.D.Sales     0.6710      0.165      4.071      0.000       0.348       0.994\n",
            "                                    Roots                                    \n",
            "=============================================================================\n",
            "                  Real          Imaginary           Modulus         Frequency\n",
            "-----------------------------------------------------------------------------\n",
            "MA.1           -1.4902           +0.0000j            1.4902            0.5000\n",
            "-----------------------------------------------------------------------------\n"
          ],
          "name": "stdout"
        }
      ]
    },
    {
      "cell_type": "markdown",
      "metadata": {
        "id": "d73iwob9r6pq"
      },
      "source": [
        "**Residual Diagonstics**"
      ]
    },
    {
      "cell_type": "code",
      "metadata": {
        "colab": {
          "base_uri": "https://localhost:8080/",
          "height": 499
        },
        "id": "oKUjBcb2ziQY",
        "outputId": "e68a31bd-a120-4c4b-abe2-bfa5512201ca"
      },
      "source": [
        "resid=model.resid\n",
        "\n",
        "fig = plt.figure(figsize=(10,8))\n",
        "# plot ACF \n",
        "ax1=plt.subplot(211)\n",
        "plot_acf(resid,lags=28,ax=ax1)\n",
        "# Plot PACF\n",
        "ax2=plt.subplot(212)\n",
        "plot_pacf(resid,lags=14,ax=ax2)\n",
        "\n",
        "plt.show()"
      ],
      "execution_count": 8,
      "outputs": [
        {
          "output_type": "display_data",
          "data": {
            "image/png": "[encoded data removed]",
            "text/plain": [
              "<Figure size 720x576 with 2 Axes>"
            ]
          },
          "metadata": {
            "tags": [],
            "needs_background": "light"
          }
        }
      ]
    },
    {
      "cell_type": "markdown",
      "metadata": {
        "id": "PKYkbyKBz81E"
      },
      "source": [
        "QQ Plot"
      ]
    },
    {
      "cell_type": "code",
      "metadata": {
        "colab": {
          "base_uri": "https://localhost:8080/",
          "height": 334
        },
        "id": "6q5GdrSmz7-Q",
        "outputId": "72361be3-7dd7-49f2-ad30-ac22a9a75bc3"
      },
      "source": [
        "fig, ax = plt.subplots(figsize=(10,5))\n",
        "qqplot(resid, line='q', fit=True, ax=ax)\n",
        "ax.grid(ls=':', color='gray', alpha=0.5)\n",
        "plt.show()\n",
        "# Residual error is normal distributed, with 0 mean and constant variance."
      ],
      "execution_count": 20,
      "outputs": [
        {
          "output_type": "display_data",
          "data": {
            "image/png": "[encoded data removed]",
            "text/plain": [
              "<Figure size 720x360 with 1 Axes>"
            ]
          },
          "metadata": {
            "tags": [],
            "needs_background": "light"
          }
        }
      ]
    },
    {
      "cell_type": "code",
      "metadata": {
        "colab": {
          "base_uri": "https://localhost:8080/"
        },
        "id": "fEDdtSJU0a3k",
        "outputId": "8e3cc086-421b-4161-c174-f8f4cb4a12c9"
      },
      "source": [
        "a = acorr_ljungbox(resid,lags=1)\n",
        "print('The test statistic is %.4f, the p-value is %.4f'%(a[0][0],a[1][0]))"
      ],
      "execution_count": 36,
      "outputs": [
        {
          "output_type": "stream",
          "text": [
            "The test statistic is 0.0039, the p-value is 0.9502\n"
          ],
          "name": "stdout"
        }
      ]
    },
    {
      "cell_type": "markdown",
      "metadata": {
        "id": "Nn9YwuAmBDaJ"
      },
      "source": [
        "P > 0.05, so we accpet the null hypothesis that the residual is white noise. "
      ]
    },
    {
      "cell_type": "markdown",
      "metadata": {
        "id": "K-cpKbZYB0EP"
      },
      "source": [
        "**Forecasting the following 7 days sales revenue**"
      ]
    },
    {
      "cell_type": "code",
      "metadata": {
        "id": "wqonqVy4qm4h"
      },
      "source": [
        "forecast = model.forecast(7)"
      ],
      "execution_count": 10,
      "outputs": []
    },
    {
      "cell_type": "code",
      "metadata": {
        "id": "ak4eRWU_yt_c"
      },
      "source": [
        "fore_y = forecast[0]\n",
        "fore_ci = forecast[2]"
      ],
      "execution_count": 28,
      "outputs": []
    },
    {
      "cell_type": "code",
      "metadata": {
        "colab": {
          "base_uri": "https://localhost:8080/"
        },
        "id": "4HswV7X_0OjL",
        "outputId": "d71bc203-6b06-408b-b60c-85eb788e4a6e"
      },
      "source": [
        "df_fore=pd.Series(fore_y,index=pd.date_range('2015-2-7',periods=7,freq='D'))\n",
        "df_fore"
      ],
      "execution_count": 17,
      "outputs": [
        {
          "output_type": "execute_result",
          "data": {
            "text/plain": [
              "2015-02-07    4873.966548\n",
              "2015-02-08    4923.922616\n",
              "2015-02-09    4973.878685\n",
              "2015-02-10    5023.834753\n",
              "2015-02-11    5073.790822\n",
              "2015-02-12    5123.746890\n",
              "2015-02-13    5173.702959\n",
              "Freq: D, dtype: float64"
            ]
          },
          "metadata": {
            "tags": []
          },
          "execution_count": 17
        }
      ]
    },
    {
      "cell_type": "code",
      "metadata": {
        "colab": {
          "base_uri": "https://localhost:8080/"
        },
        "id": "qRD0Rsj75x2X",
        "outputId": "272d7038-7a19-44aa-e436-ca44d5a42de3"
      },
      "source": [
        "fore_ci"
      ],
      "execution_count": 29,
      "outputs": [
        {
          "output_type": "execute_result",
          "data": {
            "text/plain": [
              "array([[4730.72112437, 5017.21197102],\n",
              "       [4644.96720157, 5202.87803086],\n",
              "       [4606.3014882 , 5341.45588128],\n",
              "       [4585.18926146, 5462.48024505],\n",
              "       [4574.0841683 , 5573.49747526],\n",
              "       [4569.66782411, 5677.82595649],\n",
              "       [4570.12986163, 5777.276056  ]])"
            ]
          },
          "metadata": {
            "tags": []
          },
          "execution_count": 29
        }
      ]
    },
    {
      "cell_type": "code",
      "metadata": {
        "colab": {
          "base_uri": "https://localhost:8080/",
          "height": 355
        },
        "id": "6xjvismm0Rpn",
        "outputId": "75bce332-6852-487f-80d0-d03313c24425"
      },
      "source": [
        "data=pd.concat((sales,df_fore),axis=0)\n",
        "data.columns=['Observed Sales','Forecast Sales']\n",
        "x = df_fore.index\n",
        "y1 = [i[0] for i in fore_ci] # The lower bound of confidence interval\n",
        "y2= [i[1] for i in fore_ci] # The upper bound of Confidence Interval\n",
        "fig,ax = plt.subplots(figsize=(10,5))\n",
        "data.plot(ax=ax)\n",
        "ax.fill_between(x, y1,y2, where = (y2>y1),color='k', alpha=.25)\n",
        "ax.legend(loc='upper left', fontsize=12)\n",
        "plt.show();"
      ],
      "execution_count": 41,
      "outputs": [
        {
          "output_type": "display_data",
          "data": {
            "image/png": "[encoded data removed]",
            "text/plain": [
              "<Figure size 720x360 with 1 Axes>"
            ]
          },
          "metadata": {
            "tags": [],
            "needs_background": "light"
          }
        }
      ]
    },
    {
      "cell_type": "code",
      "metadata": {
        "id": "a3e_wjONzQDu"
      },
      "source": [
        ""
      ],
      "execution_count": null,
      "outputs": []
    }
  ]
}